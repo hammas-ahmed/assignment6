{
 "cells": [
  {
   "cell_type": "markdown",
   "id": "62734447-ee44-4b27-8655-69fd977ffd36",
   "metadata": {},
   "source": [
    "# Assignment#5"
   ]
  },
  {
   "cell_type": "code",
   "execution_count": 2,
   "id": "33398a95-60e8-4fbb-9e10-2ea07714b03e",
   "metadata": {},
   "outputs": [
    {
     "name": "stdout",
     "output_type": "stream",
     "text": [
      "\n",
      "* \n",
      "* * \n",
      "* * * \n",
      "* * * * \n",
      "* * * * * \n",
      "* * * * \n",
      "* * * \n",
      "* * \n",
      "* \n"
     ]
    }
   ],
   "source": [
    "starick = 5\n",
    "for x in range(6):\n",
    "    for y in range(x):\n",
    "     print('*', end=' ')\n",
    "    print('')\n",
    "\n",
    "for x in range(starick - 1, 0, -1):\n",
    "    for y in range(x):\n",
    "        print('*', end=' ')\n",
    "    print()"
   ]
  },
  {
   "cell_type": "code",
   "execution_count": 3,
   "id": "2a912dbd-b326-40b2-b121-bb80dee78919",
   "metadata": {},
   "outputs": [
    {
     "name": "stdin",
     "output_type": "stream",
     "text": [
      " i\n"
     ]
    },
    {
     "name": "stdout",
     "output_type": "stream",
     "text": [
      "This is a vowel\n"
     ]
    }
   ],
   "source": [
    "user = input().strip()\n",
    "vowels = ('a', 'e', 'i', 'o', 'u')\n",
    "\n",
    "if user in vowels:\n",
    "    print(\"This is a vowel\")\n",
    "\n",
    "else:\n",
    "    print(\"This is a consonent\")"
   ]
  },
  {
   "cell_type": "code",
   "execution_count": 4,
   "id": "6810739f-a2b0-4cf3-a277-6bbbbd0ebec3",
   "metadata": {},
   "outputs": [
    {
     "name": "stdin",
     "output_type": "stream",
     "text": [
      "Enter any number: 4\n"
     ]
    },
    {
     "name": "stdout",
     "output_type": "stream",
     "text": [
      "4 x 1 = 4\n",
      "4 x 2 = 8\n",
      "4 x 3 = 12\n",
      "4 x 4 = 16\n",
      "4 x 5 = 20\n",
      "4 x 6 = 24\n",
      "4 x 7 = 28\n",
      "4 x 8 = 32\n",
      "4 x 9 = 36\n",
      "4 x 10 = 40\n"
     ]
    }
   ],
   "source": [
    "a = int(input(\"Enter any number:\"))\n",
    "for x in range(1,11):\n",
    "  print(a,'x',x,'=',x * a) "
   ]
  },
  {
   "cell_type": "code",
   "execution_count": 5,
   "id": "ed7f9c40-4946-43c1-bf9d-ac2549b91339",
   "metadata": {},
   "outputs": [
    {
     "data": {
      "text/plain": [
       "[{'id': 1, 'name': 'Shan', 'height': '5.5', 'weight': '70'},\n",
       " {'id': 2, 'name': 'Sarim', 'height': '6', 'weight': '63'},\n",
       " {'id': 3, 'name': 'Anas', 'height': '6.3', 'weight': '79'}]"
      ]
     },
     "execution_count": 5,
     "metadata": {},
     "output_type": "execute_result"
    }
   ],
   "source": [
    "students = [\n",
    "    {\"id\": 1, \"name\": \"Shan\", \"height\": \"5.5\", \"weight\": \"70\"},\n",
    "    {\"id\": 2, \"name\": \"Sarim\", \"height\": \"6\", \"weight\": \"63\"},\n",
    "    {\"id\": 3, \"name\": \"Anas\", \"height\": \"6.3\", \"weight\": \"79\"},\n",
    "    ]\n",
    "students"
   ]
  },
  {
   "cell_type": "code",
   "execution_count": 6,
   "id": "65759a79-b72e-4cb8-a64a-30f4ddbe7be6",
   "metadata": {},
   "outputs": [
    {
     "name": "stdout",
     "output_type": "stream",
     "text": [
      "{'id': 1, 'name': 'Shan', 'height': '5.5', 'weight': '70'}\n",
      "{'id': 2, 'name': 'Sarim', 'height': '6', 'weight': '63'}\n",
      "{'id': 3, 'name': 'Anas', 'height': '6.3', 'weight': '79'}\n"
     ]
    }
   ],
   "source": [
    "my_students = []\n",
    "\n",
    "for student in students:\n",
    "    print(student)"
   ]
  },
  {
   "cell_type": "code",
   "execution_count": 8,
   "id": "990b9e1a-afbd-4c23-b34e-fca7c38c3ff8",
   "metadata": {},
   "outputs": [
    {
     "data": {
      "text/plain": [
       "[]"
      ]
     },
     "execution_count": 8,
     "metadata": {},
     "output_type": "execute_result"
    }
   ],
   "source": [
    "my_students = [student['id'] for student in students \\\n",
    "                 if student['height'] == '6ft' and students['weight'] == \"64\" ]\n",
    "my_students"
   ]
  },
  {
   "cell_type": "code",
   "execution_count": 9,
   "id": "c746f9ee-130c-4cf1-812b-cf5e4ac50bc4",
   "metadata": {},
   "outputs": [
    {
     "name": "stdout",
     "output_type": "stream",
     "text": [
      "\n",
      "Dictionary:\n",
      "{'C1': [10, 20, 30], 'C2': [20, 30, 40], 'C3': [12, 34]}\n",
      "\n",
      "Cleared dictionary:\n",
      "{'C1': [], 'C2': [], 'C3': []}\n"
     ]
    }
   ],
   "source": [
    "def test(dictionary):\n",
    "    for key in dictionary:\n",
    "        dictionary[key].clear()\n",
    "    return dictionary\n",
    "\n",
    "dictionary = { \n",
    "    'C1': [10, 20, 30], \n",
    "    'C2': [20, 30, 40],\n",
    "    'C3': [12, 34]\n",
    "}\n",
    "\n",
    "print(\"\\nDictionary:\")\n",
    "print(dictionary)\n",
    "\n",
    "print(\"\\nCleared dictionary:\")\n",
    "\n",
    "print(test(dictionary))"
   ]
  },
  {
   "cell_type": "code",
   "execution_count": null,
   "id": "50d2615f-b08c-482a-a853-2ba7fae7a4f6",
   "metadata": {},
   "outputs": [],
   "source": []
  }
 ],
 "metadata": {
  "kernelspec": {
   "display_name": "Python 3 (ipykernel)",
   "language": "python",
   "name": "python3"
  },
  "language_info": {
   "codemirror_mode": {
    "name": "ipython",
    "version": 3
   },
   "file_extension": ".py",
   "mimetype": "text/x-python",
   "name": "python",
   "nbconvert_exporter": "python",
   "pygments_lexer": "ipython3",
   "version": "3.12.4"
  }
 },
 "nbformat": 4,
 "nbformat_minor": 5
}
